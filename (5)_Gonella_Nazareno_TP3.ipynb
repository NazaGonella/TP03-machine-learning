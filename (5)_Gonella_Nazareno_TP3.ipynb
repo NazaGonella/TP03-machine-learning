{
 "cells": [
  {
   "cell_type": "code",
   "execution_count": 1,
   "id": "20e8bd74",
   "metadata": {},
   "outputs": [
    {
     "name": "stdout",
     "output_type": "stream",
     "text": [
      "Epoch 50\n",
      "-> Loss Mean = 1.492393211178949\n",
      "Epoch 100\n",
      "-> Loss Mean = 0.981159014032361\n",
      "-> Difference = -0.511234197146588\n",
      "Epoch 150\n",
      "-> Loss Mean = 0.7493246838424031\n",
      "-> Difference = -0.23183433018995792\n",
      "Epoch 200\n",
      "-> Loss Mean = 0.6025003735578833\n",
      "-> Difference = -0.1468243102845198\n",
      "Epoch 250\n",
      "-> Loss Mean = 0.5518121078822753\n",
      "-> Difference = -0.050688265675608024\n",
      "Epoch 300\n",
      "-> Loss Mean = 0.530750762188213\n",
      "-> Difference = -0.02106134569406226\n",
      "Epoch 350\n",
      "-> Loss Mean = 0.5121138059312194\n",
      "-> Difference = -0.018636956256993686\n",
      "Epoch 400\n",
      "-> Loss Mean = 0.5334615505860826\n",
      "-> Difference = +0.02134774465486322\n",
      "Epoch 450\n",
      "-> Loss Mean = 0.7234514191664084\n",
      "-> Difference = +0.18998986858032585\n",
      "Epoch 500\n",
      "-> Loss Mean = 1.0905350212311087\n",
      "-> Difference = +0.36708360206470025\n"
     ]
    }
   ],
   "source": [
    "import matplotlib.pyplot as plt\n",
    "import numpy as np\n",
    "import pandas as pd\n",
    "import src.data_handler as data_handler\n",
    "import src.models as models\n",
    "import json\n",
    "import os\n",
    "\n",
    "project_root = os.path.abspath(os.path.join(os.getcwd(), \"..\"))\n",
    "\n",
    "CANTIDAD_DE_CLASES = 48\n",
    "SEED = 42\n",
    "\n",
    "X_images : np.ndarray[float] = np.load(f\"{project_root}/TP03/data/X_images.npy\")\n",
    "y_images : np.ndarray[float] = np.load(f\"{project_root}/TP03/data/y_images.npy\")\n",
    "\n",
    "np.random.seed(SEED)\n",
    "\n",
    "\n",
    "y_images = np.array([[0 if y_images[x] != i else 1 for i in range(CANTIDAD_DE_CLASES)] for x in range(len(X_images))], dtype=float)\n",
    "X_images = X_images / 255\n",
    "X_train : pd.DataFrame\n",
    "X_validation : pd.DataFrame\n",
    "X_test : pd.DataFrame\n",
    "X_train, X_validation, X_test, Y_train, Y_validation, Y_test = data_handler.get_splitted_dataset(pd.DataFrame(X_images), pd.DataFrame(y_images), seed=SEED)\n",
    "\n",
    "\n",
    "model_score_03 : list[dict] = {}\n",
    "with open(\"model_score_03.json\", \"r\") as file:\n",
    "    model_score_03 = json.load(file)\n",
    "\n",
    "\n",
    "M1 : models.RedNeuronal = models.RedNeuronal(M=model_score_03[3]['M'], h=model_score_03[3]['h'])\n",
    "M1.stochastic_gradient_descent(\n",
    "    np.array(X_train),\n",
    "    np.array(Y_train),\n",
    "    epochs=500,\n",
    "    learning_rate=model_score_03[3]['lr_range'],\n",
    "    batch_size_2_pow=model_score_03[3]['batch_size_2'],\n",
    "    K=model_score_03[3]['K'],\n",
    "    c=model_score_03[3]['c'] if model_score_03[3]['S'] != 0 else 0,\n",
    "    S=model_score_03[3]['S'],\n",
    "    use_adam=model_score_03[3]['use_adam'],\n",
    "    b1=model_score_03[3]['b1_b2'][0],\n",
    "    b2=model_score_03[3]['b1_b2'][1],\n",
    "    L2=model_score_03[3]['l2'],\n",
    "    # L2=0,\n",
    "    print_results_rate=50,\n",
    ")"
   ]
  },
  {
   "cell_type": "code",
   "execution_count": 3,
   "id": "ed3f0dd7",
   "metadata": {},
   "outputs": [],
   "source": [
    "X_COMP : np.ndarray[float] = np.load(f\"{project_root}/TP03/data/X_COMP.npy\")\n",
    "# Realizar las predicciones\n",
    "pred = M1.forward_pass(X_COMP, M1.W, M1.w_0)\n",
    "pred = np.where(pred >= 0.5, 1, 0)\n",
    "\n",
    "# Crear el DataFrame y guardar\n",
    "df = pd.DataFrame(pred, columns=[f\"Clase_{i}\" for i in range(pred.shape[1])])\n",
    "df.to_csv(\"Apellido_Nombre_predicciones.csv\", index=False)\n"
   ]
  }
 ],
 "metadata": {
  "kernelspec": {
   "display_name": ".venv",
   "language": "python",
   "name": "python3"
  },
  "language_info": {
   "codemirror_mode": {
    "name": "ipython",
    "version": 3
   },
   "file_extension": ".py",
   "mimetype": "text/x-python",
   "name": "python",
   "nbconvert_exporter": "python",
   "pygments_lexer": "ipython3",
   "version": "3.12.3"
  }
 },
 "nbformat": 4,
 "nbformat_minor": 5
}
