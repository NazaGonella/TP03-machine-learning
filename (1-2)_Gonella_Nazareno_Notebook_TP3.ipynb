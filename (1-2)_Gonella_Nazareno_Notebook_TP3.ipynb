{
 "cells": [
  {
   "cell_type": "code",
   "execution_count": 1,
   "id": "42c0a57a",
   "metadata": {},
   "outputs": [],
   "source": [
    "import matplotlib.pyplot as plt\n",
    "import numpy as np\n",
    "import pandas as pd\n",
    "import src.data_handler as data_handler\n",
    "import src.models as models\n",
    "import os\n",
    "from IPython.display import display\n",
    "\n",
    "project_root = os.path.abspath(os.path.join(os.getcwd(), \"..\"))\n",
    "\n",
    "CANTIDAD_DE_CLASES = 48\n",
    "\n",
    "X_images : np.ndarray[float] = np.load(f\"{project_root}/TP03/data/X_images.npy\")\n",
    "y_images : np.ndarray[float] = np.load(f\"{project_root}/TP03/data/y_images.npy\")\n",
    "\n",
    "np.random.seed(42)"
   ]
  },
  {
   "cell_type": "code",
   "execution_count": 2,
   "id": "a9d089c4",
   "metadata": {},
   "outputs": [],
   "source": [
    "def get_image_by_index(index : int, dataset : np.ndarray[float]) -> np.ndarray[float]:\n",
    "    return dataset[index].reshape(28 ,28)"
   ]
  },
  {
   "cell_type": "markdown",
   "id": "f6f04ff3",
   "metadata": {},
   "source": [
    "## 1 ) Análisis y preprocesamiento de datos"
   ]
  },
  {
   "cell_type": "code",
   "execution_count": 3,
   "id": "fb5f55d5",
   "metadata": {},
   "outputs": [
    {
     "data": {
      "image/png": "[encoded data removed]",
      "text/plain": [
       "<Figure size 1000x400 with 3 Axes>"
      ]
     },
     "metadata": {},
     "output_type": "display_data"
    }
   ],
   "source": [
    "plt.figure(figsize=(10, 4))\n",
    "plt.subplot(1, 3, 1)\n",
    "plt.title(f\"Imagen {1}\")\n",
    "plt.imshow(get_image_by_index(1, X_images), aspect='equal')\n",
    "plt.subplot(1, 3, 2)\n",
    "plt.title(f\"Imagen {500}\")\n",
    "plt.imshow(get_image_by_index(500, X_images), aspect='equal')\n",
    "plt.subplot(1, 3, 3)\n",
    "plt.title(f\"Imagen {4001}\")\n",
    "plt.imshow(get_image_by_index(4001, X_images), aspect='equal')\n",
    "plt.show() \n",
    "\n",
    "# plt.figure(figsize=(4, 4))\n",
    "# plt.imshow(get_image_by_index(1, X_images), aspect='equal')\n",
    "# # plt.title(\"Imagen 1\")\n",
    "# plt.savefig(\"imagen_1.png\")\n",
    "# plt.close()\n",
    "\n",
    "# plt.figure(figsize=(4, 4))\n",
    "# plt.imshow(get_image_by_index(500, X_images), aspect='equal')\n",
    "# # plt.title(\"Imagen 500\")\n",
    "# plt.savefig(\"imagen_500.png\")\n",
    "# plt.close()\n",
    "\n",
    "# plt.figure(figsize=(4, 4))\n",
    "# plt.imshow(get_image_by_index(4001, X_images), aspect='equal')\n",
    "# # plt.title(\"Imagen 4001\")\n",
    "# plt.savefig(\"imagen_4001.png\")\n",
    "# plt.close()"
   ]
  },
  {
   "cell_type": "code",
   "execution_count": 4,
   "id": "a40c9f2f",
   "metadata": {},
   "outputs": [
    {
     "name": "stdout",
     "output_type": "stream",
     "text": [
      "X_images.info()\n",
      "<class 'pandas.core.frame.DataFrame'>\n",
      "RangeIndex: 5000 entries, 0 to 4999\n",
      "Columns: 784 entries, 0 to 783\n",
      "dtypes: float32(784)\n",
      "memory usage: 15.0 MB\n"
     ]
    },
    {
     "data": {
      "text/plain": [
       "None"
      ]
     },
     "metadata": {},
     "output_type": "display_data"
    },
    {
     "name": "stdout",
     "output_type": "stream",
     "text": [
      "y_images.info()\n",
      "<class 'pandas.core.frame.DataFrame'>\n",
      "RangeIndex: 5000 entries, 0 to 4999\n",
      "Data columns (total 1 columns):\n",
      " #   Column  Non-Null Count  Dtype\n",
      "---  ------  --------------  -----\n",
      " 0   0       5000 non-null   int64\n",
      "dtypes: int64(1)\n",
      "memory usage: 39.2 KB\n"
     ]
    },
    {
     "data": {
      "text/plain": [
       "None"
      ]
     },
     "metadata": {},
     "output_type": "display_data"
    }
   ],
   "source": [
    "print(\"X_images.info()\")\n",
    "display(pd.DataFrame(X_images).info())\n",
    "print(\"y_images.info()\")\n",
    "display(pd.DataFrame(y_images).info())"
   ]
  },
  {
   "cell_type": "code",
   "execution_count": 5,
   "id": "4b6402f7",
   "metadata": {},
   "outputs": [
    {
     "name": "stdout",
     "output_type": "stream",
     "text": [
      "'y_images'\n",
      "\n",
      "Valores del dataset original :  [ 0  0  0 ... 25 18 28]\n",
      "Cantidad de valores únicos   :  49\n",
      "\n",
      "ONE-HOT\n",
      "[[1. 0. 0. ... 0. 0. 0.]\n",
      " [1. 0. 0. ... 0. 0. 0.]\n",
      " [1. 0. 0. ... 0. 0. 0.]\n",
      " ...\n",
      " [0. 0. 0. ... 0. 0. 0.]\n",
      " [0. 0. 0. ... 0. 0. 0.]\n",
      " [0. 0. 0. ... 0. 0. 0.]]\n"
     ]
    }
   ],
   "source": [
    "# Qué es y?\n",
    "\n",
    "print(\"\\'y_images\\'\")\n",
    "print(\"\")\n",
    "print(\"Valores del dataset original : \", y_images)\n",
    "print(\"Cantidad de valores únicos   : \", len(set(y_images)))\n",
    "print(\"\")\n",
    "# Valores que abarcan de 0 al 48, representando cada una de las clases.\n",
    "\n",
    "# Queremos una representación de 'y' con un esquema de one-hot-encoding\n",
    "# Cada fila es una muestra, cada muestra es de una clase\n",
    "y_images = np.array([[0 if y_images[x] != i else 1 for i in range(CANTIDAD_DE_CLASES)] for x in range(len(X_images))], dtype=float)\n",
    "print(\"ONE-HOT\")\n",
    "print(y_images)\n"
   ]
  },
  {
   "cell_type": "code",
   "execution_count": 6,
   "id": "7ce0b85a",
   "metadata": {},
   "outputs": [
    {
     "name": "stdout",
     "output_type": "stream",
     "text": [
      "(4000, 784)\n",
      "(750, 784)\n",
      "(250, 784)\n",
      "(4000, 48)\n",
      "(750, 48)\n",
      "(250, 48)\n"
     ]
    }
   ],
   "source": [
    "X_images = X_images / 255\n",
    "X_train : pd.DataFrame\n",
    "X_validation : pd.DataFrame\n",
    "X_test : pd.DataFrame\n",
    "X_train, X_validation, X_test, Y_train, Y_validation, Y_test = data_handler.get_splitted_dataset(pd.DataFrame(X_images), pd.DataFrame(y_images))\n",
    "print(X_train.shape)\n",
    "print(X_validation.shape)\n",
    "print(X_test.shape)\n",
    "print(Y_train.shape)\n",
    "print(Y_validation.shape)\n",
    "print(Y_test.shape)"
   ]
  },
  {
   "cell_type": "markdown",
   "id": "21cece68",
   "metadata": {},
   "source": [
    "## 2 ) Implementación y Entrenamiento de una Red Neuronal Básica"
   ]
  },
  {
   "cell_type": "code",
   "execution_count": 7,
   "id": "08a35a9d",
   "metadata": {},
   "outputs": [
    {
     "name": "stdout",
     "output_type": "stream",
     "text": [
      "Epoch 50\n",
      "-> Loss = [1.94771532 1.31907467 0.79421368 ... 2.94688563 5.5727164  4.48845807]\n",
      "-> Loss Mean = 1.9540800169707186\n",
      "Epoch 100\n",
      "-> Loss = [1.6397485  0.53475729 0.05343886 ... 2.65223856 6.0818294  2.71998771]\n",
      "-> Loss Mean = 1.352418342186626\n",
      "-> Difference = -0.6016616747840926\n",
      "Epoch 150\n",
      "-> Loss = [2.63411045 0.28627473 0.05354699 ... 1.16821027 4.84650615 2.14905963]\n",
      "-> Loss Mean = 0.9884507929967806\n",
      "-> Difference = -0.3639675491898454\n",
      "Epoch 200\n",
      "-> Loss = [0.44647635 0.65331545 0.05074117 ... 0.86352609 6.11513418 0.60692574]\n",
      "-> Loss Mean = 0.7137470815922299\n",
      "-> Difference = -0.27470371140455074\n",
      "Epoch 250\n",
      "-> Loss = [0.88248757 0.01931423 0.02437098 ... 0.50151988 4.8205823  0.80212655]\n",
      "-> Loss Mean = 0.6507100079557079\n",
      "-> Difference = -0.063037073636522\n"
     ]
    }
   ],
   "source": [
    "M0 : models.RedNeuronal = models.RedNeuronal([784,100,80,48], ['relu', 'relu', 'softmax'])\n",
    "# print(X_images.shape)\n",
    "M0.batch_gradient_descent(np.array(X_train), np.array(Y_train), epochs=250, learning_rate=(0.0001, 0.0001), print_results_rate=50)"
   ]
  },
  {
   "cell_type": "code",
   "execution_count": 8,
   "id": "71733164",
   "metadata": {},
   "outputs": [
    {
     "name": "stdout",
     "output_type": "stream",
     "text": [
      "(4000, 48)\n",
      "Accuracy Train =  0.806\n",
      "Accuracy Validation =  0.5906666666666667\n",
      "Accuracy Test =  0.572\n"
     ]
    }
   ],
   "source": [
    "print(M0.pred.shape)\n",
    "print(\"Accuracy Train = \", M0.get_train_accuracy(Y_train))\n",
    "print(\"Accuracy Validation = \", M0.get_accuracy(Y_validation, pred=M0.get_prediction(X_validation)))\n",
    "print(\"Accuracy Test = \", M0.get_accuracy(Y_test, pred=M0.get_prediction(X_test)))"
   ]
  },
  {
   "cell_type": "code",
   "execution_count": 9,
   "id": "32f0739f",
   "metadata": {},
   "outputs": [
    {
     "data": {
      "image/png": "[encoded data removed]",
      "text/plain": [
       "<Figure size 640x480 with 2 Axes>"
      ]
     },
     "metadata": {},
     "output_type": "display_data"
    }
   ],
   "source": [
    "cm : np.ndarray = M0.get_train_confusion_matrix(Y_train)\n",
    "plt.imshow(cm, cmap='Purples')\n",
    "plt.colorbar()\n",
    "plt.xlabel('Predicted')\n",
    "plt.ylabel('True')\n",
    "# plt.title('Confusion Matrix')\n",
    "plt.xticks(range(0, cm.shape[0], 8))\n",
    "plt.yticks(range(0, cm.shape[0], 8))\n",
    "plt.show()"
   ]
  }
 ],
 "metadata": {
  "kernelspec": {
   "display_name": ".venv",
   "language": "python",
   "name": "python3"
  },
  "language_info": {
   "codemirror_mode": {
    "name": "ipython",
    "version": 3
   },
   "file_extension": ".py",
   "mimetype": "text/x-python",
   "name": "python",
   "nbconvert_exporter": "python",
   "pygments_lexer": "ipython3",
   "version": "3.12.3"
  }
 },
 "nbformat": 4,
 "nbformat_minor": 5
}
