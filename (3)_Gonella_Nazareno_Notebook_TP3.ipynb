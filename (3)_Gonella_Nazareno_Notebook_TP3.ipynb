{
 "cells": [
  {
   "cell_type": "code",
   "execution_count": 1,
   "id": "692055db",
   "metadata": {},
   "outputs": [],
   "source": [
    "import matplotlib.pyplot as plt\n",
    "import numpy as np\n",
    "import pandas as pd\n",
    "import src.data_handler as data_handler\n",
    "import src.models as models\n",
    "import os\n",
    "\n",
    "project_root = os.path.abspath(os.path.join(os.getcwd(), \"..\"))\n",
    "\n",
    "CANTIDAD_DE_CLASES = 48\n",
    "SEED = 42\n",
    "\n",
    "X_images : np.ndarray[float] = np.load(f\"{project_root}/TP03/data/X_images.npy\")\n",
    "y_images : np.ndarray[float] = np.load(f\"{project_root}/TP03/data/y_images.npy\")\n",
    "\n",
    "np.random.seed(SEED)"
   ]
  },
  {
   "cell_type": "code",
   "execution_count": 2,
   "id": "03b03d91",
   "metadata": {},
   "outputs": [],
   "source": [
    "y_images = np.array([[0 if y_images[x] != i else 1 for i in range(CANTIDAD_DE_CLASES)] for x in range(len(X_images))], dtype=float)\n",
    "X_images = X_images / 255\n",
    "X_train : pd.DataFrame\n",
    "X_validation : pd.DataFrame\n",
    "X_test : pd.DataFrame\n",
    "X_train, X_validation, X_test, Y_train, Y_validation, Y_test = data_handler.get_splitted_dataset(pd.DataFrame(X_images), pd.DataFrame(y_images), seed=SEED)"
   ]
  },
  {
   "cell_type": "code",
   "execution_count": 3,
   "id": "8b7deb3c",
   "metadata": {},
   "outputs": [
    {
     "name": "stdout",
     "output_type": "stream",
     "text": [
      "Epoch 50\n",
      "-> Loss = [1.94771532 1.31907467 0.79421368 ... 2.94688563 5.5727164  4.48845807]\n",
      "-> Loss Mean = 1.9540800169707186\n",
      "Epoch 100\n",
      "-> Loss = [1.6397485  0.53475729 0.05343886 ... 2.65223856 6.0818294  2.71998771]\n",
      "-> Loss Mean = 1.352418342186626\n",
      "-> Difference = -0.6016616747840926\n",
      "Epoch 150\n",
      "-> Loss = [2.63411045 0.28627473 0.05354699 ... 1.16821027 4.84650615 2.14905963]\n",
      "-> Loss Mean = 0.9884507929967806\n",
      "-> Difference = -0.3639675491898454\n",
      "Epoch 200\n",
      "-> Loss = [0.44647635 0.65331545 0.05074117 ... 0.86352609 6.11513418 0.60692574]\n",
      "-> Loss Mean = 0.7137470815922299\n",
      "-> Difference = -0.27470371140455074\n",
      "Epoch 250\n",
      "-> Loss = [0.88248757 0.01931423 0.02437098 ... 0.50151988 4.8205823  0.80212655]\n",
      "-> Loss Mean = 0.6507100079557079\n",
      "-> Difference = -0.063037073636522\n"
     ]
    }
   ],
   "source": [
    "\n",
    "M0 : models.RedNeuronal = models.RedNeuronal([100,80], ['relu', 'relu', 'softmax'])\n",
    "M0.gradient_descent(np.array(X_train), np.array(Y_train), 250, 0.0001, print_results_rate=50)"
   ]
  }
 ],
 "metadata": {
  "kernelspec": {
   "display_name": ".venv",
   "language": "python",
   "name": "python3"
  },
  "language_info": {
   "codemirror_mode": {
    "name": "ipython",
    "version": 3
   },
   "file_extension": ".py",
   "mimetype": "text/x-python",
   "name": "python",
   "nbconvert_exporter": "python",
   "pygments_lexer": "ipython3",
   "version": "3.12.3"
  }
 },
 "nbformat": 4,
 "nbformat_minor": 5
}
