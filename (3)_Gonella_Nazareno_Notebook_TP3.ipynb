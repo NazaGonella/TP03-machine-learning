{
 "cells": [
  {
   "cell_type": "code",
   "execution_count": 1,
   "id": "692055db",
   "metadata": {},
   "outputs": [],
   "source": [
    "import matplotlib.pyplot as plt\n",
    "import numpy as np\n",
    "import pandas as pd\n",
    "import src.data_handler as data_handler\n",
    "import src.models as models\n",
    "import os\n",
    "\n",
    "project_root = os.path.abspath(os.path.join(os.getcwd(), \"..\"))\n",
    "\n",
    "CANTIDAD_DE_CLASES = 48\n",
    "SEED = 42\n",
    "\n",
    "X_images : np.ndarray[float] = np.load(f\"{project_root}/TP03/data/X_images.npy\")\n",
    "y_images : np.ndarray[float] = np.load(f\"{project_root}/TP03/data/y_images.npy\")\n",
    "\n",
    "np.random.seed(SEED)"
   ]
  },
  {
   "cell_type": "code",
   "execution_count": 2,
   "id": "03b03d91",
   "metadata": {},
   "outputs": [],
   "source": [
    "y_images = np.array([[0 if y_images[x] != i else 1 for i in range(CANTIDAD_DE_CLASES)] for x in range(len(X_images))], dtype=float)\n",
    "X_images = X_images / 255\n",
    "X_train : pd.DataFrame\n",
    "X_validation : pd.DataFrame\n",
    "X_test : pd.DataFrame\n",
    "X_train, X_validation, X_test, Y_train, Y_validation, Y_test = data_handler.get_splitted_dataset(pd.DataFrame(X_images), pd.DataFrame(y_images), seed=SEED)"
   ]
  },
  {
   "cell_type": "code",
   "execution_count": null,
   "id": "8b7deb3c",
   "metadata": {},
   "outputs": [
    {
     "name": "stdout",
     "output_type": "stream",
     "text": [
      "Epoch 50\n",
      "-> Loss Mean = 3.531994154862641\n",
      "Epoch 100\n",
      "-> Loss Mean = 2.3543314860287663\n",
      "-> Difference = -1.1776626688338747\n",
      "Epoch 150\n",
      "-> Loss Mean = 23.025850929940457\n",
      "-> Difference = +20.67151944391169\n",
      "Epoch 200\n",
      "-> Loss Mean = 3.986615799126919\n",
      "-> Difference = -19.039235130813537\n",
      "Epoch 250\n",
      "-> Loss Mean = 3.9848865223271486\n",
      "-> Difference = -0.0017292767997703073\n"
     ]
    }
   ],
   "source": [
    "\n",
    "M0 : models.RedNeuronal = models.RedNeuronal([100,80], ['relu', 'relu', 'softmax'])\n",
    "M0.stochastic_gradient_descent(np.array(X_train), np.array(Y_train), 250, [0.0001, 0.0001], batch_size=len(X_train), print_results_rate=50)"
   ]
  }
 ],
 "metadata": {
  "kernelspec": {
   "display_name": ".venv",
   "language": "python",
   "name": "python3"
  },
  "language_info": {
   "codemirror_mode": {
    "name": "ipython",
    "version": 3
   },
   "file_extension": ".py",
   "mimetype": "text/x-python",
   "name": "python",
   "nbconvert_exporter": "python",
   "pygments_lexer": "ipython3",
   "version": "3.12.3"
  }
 },
 "nbformat": 4,
 "nbformat_minor": 5
}
